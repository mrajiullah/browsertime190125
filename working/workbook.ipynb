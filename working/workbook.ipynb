{
 "cells": [
  {
   "cell_type": "code",
   "execution_count": 9,
   "metadata": {
    "collapsed": false
   },
   "outputs": [
    {
     "data": {
      "text/html": [
       "<div>\n",
       "<style>\n",
       "    .dataframe thead tr:only-child th {\n",
       "        text-align: right;\n",
       "    }\n",
       "\n",
       "    .dataframe thead th {\n",
       "        text-align: left;\n",
       "    }\n",
       "\n",
       "    .dataframe tbody tr th {\n",
       "        vertical-align: top;\n",
       "    }\n",
       "</style>\n",
       "<table border=\"1\" class=\"dataframe\">\n",
       "  <thead>\n",
       "    <tr style=\"text-align: right;\">\n",
       "      <th></th>\n",
       "      <th>#objects</th>\n",
       "      <th>#domains</th>\n",
       "      <th>browser</th>\n",
       "      <th>http</th>\n",
       "      <th>url</th>\n",
       "      <th>PLT</th>\n",
       "      <th>RumspeedIndex</th>\n",
       "    </tr>\n",
       "  </thead>\n",
       "  <tbody>\n",
       "    <tr>\n",
       "      <th>0</th>\n",
       "      <td>202</td>\n",
       "      <td>2</td>\n",
       "      <td>Firefox</td>\n",
       "      <td>HTTP1.1/TLS</td>\n",
       "      <td>facebook.com/toughmudder</td>\n",
       "      <td>16657</td>\n",
       "      <td>19092</td>\n",
       "    </tr>\n",
       "    <tr>\n",
       "      <th>1</th>\n",
       "      <td>205</td>\n",
       "      <td>2</td>\n",
       "      <td>Chrome</td>\n",
       "      <td>HTTP1.1/TLS</td>\n",
       "      <td>facebook.com/toughmudder</td>\n",
       "      <td>16248</td>\n",
       "      <td>14642</td>\n",
       "    </tr>\n",
       "    <tr>\n",
       "      <th>2</th>\n",
       "      <td>202</td>\n",
       "      <td>2</td>\n",
       "      <td>Firefox</td>\n",
       "      <td>HTTP2</td>\n",
       "      <td>facebook.com/toughmudder</td>\n",
       "      <td>19438</td>\n",
       "      <td>17130</td>\n",
       "    </tr>\n",
       "    <tr>\n",
       "      <th>3</th>\n",
       "      <td>205</td>\n",
       "      <td>2</td>\n",
       "      <td>Chrome</td>\n",
       "      <td>HTTP2</td>\n",
       "      <td>facebook.com/toughmudder</td>\n",
       "      <td>13918</td>\n",
       "      <td>13625</td>\n",
       "    </tr>\n",
       "    <tr>\n",
       "      <th>4</th>\n",
       "      <td>162</td>\n",
       "      <td>2</td>\n",
       "      <td>Firefox</td>\n",
       "      <td>HTTP1.1/TLS</td>\n",
       "      <td>facebook.com/Nutella</td>\n",
       "      <td>14748</td>\n",
       "      <td>12467</td>\n",
       "    </tr>\n",
       "  </tbody>\n",
       "</table>\n",
       "</div>"
      ],
      "text/plain": [
       "   #objects  #domains  browser         http                       url    PLT  \\\n",
       "0       202         2  Firefox  HTTP1.1/TLS  facebook.com/toughmudder  16657   \n",
       "1       205         2   Chrome  HTTP1.1/TLS  facebook.com/toughmudder  16248   \n",
       "2       202         2  Firefox        HTTP2  facebook.com/toughmudder  19438   \n",
       "3       205         2   Chrome        HTTP2  facebook.com/toughmudder  13918   \n",
       "4       162         2  Firefox  HTTP1.1/TLS      facebook.com/Nutella  14748   \n",
       "\n",
       "   RumspeedIndex  \n",
       "0          19092  \n",
       "1          14642  \n",
       "2          17130  \n",
       "3          13625  \n",
       "4          12467  "
      ]
     },
     "execution_count": 9,
     "metadata": {},
     "output_type": "execute_result"
    }
   ],
   "source": [
    "import pandas as pd\n",
    "data = pd.ExcelFile(\"../17819.xlsx\")\n",
    "data.sheet_names\n",
    "df=data.parse(\"Sheet2\")\n",
    "df.head()"
   ]
  },
  {
   "cell_type": "code",
   "execution_count": 10,
   "metadata": {
    "collapsed": true
   },
   "outputs": [],
   "source": [
    "import seaborn as sns\n",
    "import numpy as np\n",
    "import matplotlib.pyplot as pyplot"
   ]
  },
  {
   "cell_type": "code",
   "execution_count": 16,
   "metadata": {
    "collapsed": true
   },
   "outputs": [],
   "source": [
    "h1=df[\"http\"]==\"HTTP1.1/TLS\"\n",
    "h2=df[\"http\"]==\"HTTP2\""
   ]
  },
  {
   "cell_type": "code",
   "execution_count": 24,
   "metadata": {
    "collapsed": false
   },
   "outputs": [
    {
     "data": {
      "image/png": "[encoded data removed]",
      "text/plain": [
       "<matplotlib.figure.Figure at 0x113bdc410>"
      ]
     },
     "metadata": {},
     "output_type": "display_data"
    }
   ],
   "source": [
    "g=sns.kdeplot(df[h1].PLT,cumulative=True, label=\"HTTP1.1/TLS\")\n",
    "g=sns.kdeplot(df[h2].PLT,cumulative=True, label=\"HTTP2\")\n",
    "#g.set_xscale('log')\n",
    "pyplot.show()"
   ]
  },
  {
   "cell_type": "code",
   "execution_count": 26,
   "metadata": {
    "collapsed": false
   },
   "outputs": [
    {
     "data": {
      "image/png": "[encoded data removed]",
      "text/plain": [
       "<matplotlib.figure.Figure at 0x113ec6210>"
      ]
     },
     "metadata": {},
     "output_type": "display_data"
    }
   ],
   "source": [
    "g=sns.boxplot(x=\"browser\", y=\"PLT\", hue=\"http\",data=df, palette=\"PRGn\")\n",
    "sns.despine(offset=10, trim=True)\n",
    "pyplot.show()"
   ]
  },
  {
   "cell_type": "code",
   "execution_count": 27,
   "metadata": {
    "collapsed": false
   },
   "outputs": [
    {
     "data": {
      "image/png": "[encoded data removed]",
      "text/plain": [
       "<matplotlib.figure.Figure at 0x1145ea150>"
      ]
     },
     "metadata": {},
     "output_type": "display_data"
    }
   ],
   "source": [
    "g=sns.boxplot(x=\"http\", y=\"#objects\", hue=\"browser\",data=df, palette=\"PRGn\")\n",
    "sns.despine(offset=10, trim=True)\n",
    "pyplot.show()"
   ]
  },
  {
   "cell_type": "code",
   "execution_count": 28,
   "metadata": {
    "collapsed": false
   },
   "outputs": [
    {
     "data": {
      "image/png": "[encoded data removed]",
      "text/plain": [
       "<matplotlib.figure.Figure at 0x1144bb790>"
      ]
     },
     "metadata": {},
     "output_type": "display_data"
    }
   ],
   "source": [
    "g=sns.boxplot(x=\"http\", y=\"#domains\", hue=\"browser\",data=df, palette=\"PRGn\")\n",
    "sns.despine(offset=10, trim=True)\n",
    "pyplot.show()"
   ]
  },
  {
   "cell_type": "code",
   "execution_count": 9,
   "metadata": {
    "collapsed": false
   },
   "outputs": [
    {
     "data": {
      "text/html": [
       "<div>\n",
       "<style>\n",
       "    .dataframe thead tr:only-child th {\n",
       "        text-align: right;\n",
       "    }\n",
       "\n",
       "    .dataframe thead th {\n",
       "        text-align: left;\n",
       "    }\n",
       "\n",
       "    .dataframe tbody tr th {\n",
       "        vertical-align: top;\n",
       "    }\n",
       "</style>\n",
       "<table border=\"1\" class=\"dataframe\">\n",
       "  <thead>\n",
       "    <tr style=\"text-align: right;\">\n",
       "      <th></th>\n",
       "      <th>#objects</th>\n",
       "      <th>#domains</th>\n",
       "      <th>browser</th>\n",
       "      <th>http</th>\n",
       "      <th>url</th>\n",
       "      <th>PLT</th>\n",
       "      <th>RumspeedIndex</th>\n",
       "      <th>Unnamed: 7</th>\n",
       "    </tr>\n",
       "  </thead>\n",
       "  <tbody>\n",
       "    <tr>\n",
       "      <th>614</th>\n",
       "      <td>23</td>\n",
       "      <td>3</td>\n",
       "      <td>Chrome</td>\n",
       "      <td>HTTP2</td>\n",
       "      <td>ebay.com/rpp/sporting-goods-en</td>\n",
       "      <td>5780.0</td>\n",
       "      <td>3957</td>\n",
       "      <td>NaN</td>\n",
       "    </tr>\n",
       "    <tr>\n",
       "      <th>615</th>\n",
       "      <td>23</td>\n",
       "      <td>3</td>\n",
       "      <td>Firefox</td>\n",
       "      <td>HTTP2</td>\n",
       "      <td>ebay.com/rpp/home-and-garden-en</td>\n",
       "      <td>8226.0</td>\n",
       "      <td>5392</td>\n",
       "      <td>NaN</td>\n",
       "    </tr>\n",
       "    <tr>\n",
       "      <th>616</th>\n",
       "      <td>23</td>\n",
       "      <td>3</td>\n",
       "      <td>Chrome</td>\n",
       "      <td>HTTP2</td>\n",
       "      <td>ebay.com/rpp/home-and-garden-en</td>\n",
       "      <td>5288.0</td>\n",
       "      <td>3834</td>\n",
       "      <td>NaN</td>\n",
       "    </tr>\n",
       "    <tr>\n",
       "      <th>617</th>\n",
       "      <td>23</td>\n",
       "      <td>3</td>\n",
       "      <td>Firefox</td>\n",
       "      <td>HTTP1.1/TLS</td>\n",
       "      <td>ebay.com/rpp/home-and-garden-en</td>\n",
       "      <td>10394.0</td>\n",
       "      <td>7156</td>\n",
       "      <td>NaN</td>\n",
       "    </tr>\n",
       "    <tr>\n",
       "      <th>618</th>\n",
       "      <td>22</td>\n",
       "      <td>3</td>\n",
       "      <td>Chrome</td>\n",
       "      <td>HTTP1.1/TLS</td>\n",
       "      <td>ebay.com/rpp/home-and-garden-en</td>\n",
       "      <td>5084.0</td>\n",
       "      <td>3997</td>\n",
       "      <td>NaN</td>\n",
       "    </tr>\n",
       "  </tbody>\n",
       "</table>\n",
       "</div>"
      ],
      "text/plain": [
       "     #objects  #domains  browser         http  \\\n",
       "614        23         3   Chrome        HTTP2   \n",
       "615        23         3  Firefox        HTTP2   \n",
       "616        23         3   Chrome        HTTP2   \n",
       "617        23         3  Firefox  HTTP1.1/TLS   \n",
       "618        22         3   Chrome  HTTP1.1/TLS   \n",
       "\n",
       "                                 url      PLT  RumspeedIndex  Unnamed: 7  \n",
       "614   ebay.com/rpp/sporting-goods-en   5780.0           3957         NaN  \n",
       "615  ebay.com/rpp/home-and-garden-en   8226.0           5392         NaN  \n",
       "616  ebay.com/rpp/home-and-garden-en   5288.0           3834         NaN  \n",
       "617  ebay.com/rpp/home-and-garden-en  10394.0           7156         NaN  \n",
       "618  ebay.com/rpp/home-and-garden-en   5084.0           3997         NaN  "
      ]
     },
     "execution_count": 9,
     "metadata": {},
     "output_type": "execute_result"
    }
   ],
   "source": [
    "import pandas as pd\n",
    "data = pd.ExcelFile(\"4_exps.xlsx\")\n",
    "data.sheet_names\n",
    "df=data.parse(\"4_exps\")\n",
    "df.head()\n",
    "df.tail()\n"
   ]
  },
  {
   "cell_type": "code",
   "execution_count": 11,
   "metadata": {
    "collapsed": false
   },
   "outputs": [
    {
     "data": {
      "image/png": "[encoded data removed]",
      "text/plain": [
       "<matplotlib.figure.Figure at 0x115667e10>"
      ]
     },
     "metadata": {},
     "output_type": "display_data"
    }
   ],
   "source": [
    "h1=df[\"http\"]==\"HTTP1.1/TLS\"\n",
    "h2=df[\"http\"]==\"HTTP2\"\n",
    "g=sns.kdeplot(df[h1].PLT,cumulative=True, label=\"HTTP1.1/TLS\")\n",
    "#g=sns.kdeplot(df[h2].PLT,cumulative=True, label=\"HTTP2\")\n",
    "#g.set_xscale('log')\n",
    "pyplot.show()"
   ]
  },
  {
   "cell_type": "code",
   "execution_count": 12,
   "metadata": {
    "collapsed": false
   },
   "outputs": [
    {
     "data": {
      "image/png": "[encoded data removed]",
      "text/plain": [
       "<matplotlib.figure.Figure at 0x115870b10>"
      ]
     },
     "metadata": {},
     "output_type": "display_data"
    }
   ],
   "source": [
    "g=sns.boxplot(x=\"http\", y=\"#domains\", hue=\"browser\",data=df, palette=\"PRGn\")\n",
    "sns.despine(offset=10, trim=True)\n",
    "pyplot.show()"
   ]
  },
  {
   "cell_type": "code",
   "execution_count": 13,
   "metadata": {
    "collapsed": false
   },
   "outputs": [
    {
     "data": {
      "image/png": "[encoded data removed]",
      "text/plain": [
       "<matplotlib.figure.Figure at 0x115667250>"
      ]
     },
     "metadata": {},
     "output_type": "display_data"
    }
   ],
   "source": [
    "g=sns.boxplot(x=\"browser\", y=\"PLT\", hue=\"http\",data=df, palette=\"PRGn\")\n",
    "sns.despine(offset=10, trim=True)\n",
    "pyplot.show()"
   ]
  },
  {
   "cell_type": "code",
   "execution_count": 17,
   "metadata": {
    "collapsed": false
   },
   "outputs": [
    {
     "data": {
      "text/html": [
       "<div>\n",
       "<style>\n",
       "    .dataframe thead tr:only-child th {\n",
       "        text-align: right;\n",
       "    }\n",
       "\n",
       "    .dataframe thead th {\n",
       "        text-align: left;\n",
       "    }\n",
       "\n",
       "    .dataframe tbody tr th {\n",
       "        vertical-align: top;\n",
       "    }\n",
       "</style>\n",
       "<table border=\"1\" class=\"dataframe\">\n",
       "  <thead>\n",
       "    <tr style=\"text-align: right;\">\n",
       "      <th></th>\n",
       "      <th>#objects</th>\n",
       "      <th>#domains</th>\n",
       "      <th>browser</th>\n",
       "      <th>http</th>\n",
       "      <th>url</th>\n",
       "      <th>PLT</th>\n",
       "      <th>RumspeedIndex</th>\n",
       "    </tr>\n",
       "  </thead>\n",
       "  <tbody>\n",
       "    <tr>\n",
       "      <th>0</th>\n",
       "      <td>202</td>\n",
       "      <td>2</td>\n",
       "      <td>Firefox</td>\n",
       "      <td>HTTP1.1/TLS</td>\n",
       "      <td>facebook.com/toughmudder</td>\n",
       "      <td>16657.0</td>\n",
       "      <td>19092</td>\n",
       "    </tr>\n",
       "    <tr>\n",
       "      <th>1</th>\n",
       "      <td>205</td>\n",
       "      <td>2</td>\n",
       "      <td>Chrome</td>\n",
       "      <td>HTTP1.1/TLS</td>\n",
       "      <td>facebook.com/toughmudder</td>\n",
       "      <td>16248.0</td>\n",
       "      <td>14642</td>\n",
       "    </tr>\n",
       "    <tr>\n",
       "      <th>2</th>\n",
       "      <td>202</td>\n",
       "      <td>2</td>\n",
       "      <td>Firefox</td>\n",
       "      <td>HTTP2</td>\n",
       "      <td>facebook.com/toughmudder</td>\n",
       "      <td>19438.0</td>\n",
       "      <td>17130</td>\n",
       "    </tr>\n",
       "    <tr>\n",
       "      <th>3</th>\n",
       "      <td>205</td>\n",
       "      <td>2</td>\n",
       "      <td>Chrome</td>\n",
       "      <td>HTTP2</td>\n",
       "      <td>facebook.com/toughmudder</td>\n",
       "      <td>13918.0</td>\n",
       "      <td>13625</td>\n",
       "    </tr>\n",
       "    <tr>\n",
       "      <th>4</th>\n",
       "      <td>162</td>\n",
       "      <td>2</td>\n",
       "      <td>Firefox</td>\n",
       "      <td>HTTP1.1/TLS</td>\n",
       "      <td>facebook.com/Nutella</td>\n",
       "      <td>14748.0</td>\n",
       "      <td>12467</td>\n",
       "    </tr>\n",
       "  </tbody>\n",
       "</table>\n",
       "</div>"
      ],
      "text/plain": [
       "   #objects  #domains  browser         http                       url  \\\n",
       "0       202         2  Firefox  HTTP1.1/TLS  facebook.com/toughmudder   \n",
       "1       205         2   Chrome  HTTP1.1/TLS  facebook.com/toughmudder   \n",
       "2       202         2  Firefox        HTTP2  facebook.com/toughmudder   \n",
       "3       205         2   Chrome        HTTP2  facebook.com/toughmudder   \n",
       "4       162         2  Firefox  HTTP1.1/TLS      facebook.com/Nutella   \n",
       "\n",
       "       PLT  RumspeedIndex  \n",
       "0  16657.0          19092  \n",
       "1  16248.0          14642  \n",
       "2  19438.0          17130  \n",
       "3  13918.0          13625  \n",
       "4  14748.0          12467  "
      ]
     },
     "execution_count": 17,
     "metadata": {},
     "output_type": "execute_result"
    }
   ],
   "source": [
    "import seaborn as sns\n",
    "import numpy as np\n",
    "import matplotlib.pyplot as pyplot\n",
    "import pandas as pd\n",
    "data = pd.ExcelFile(\"result_exps.xlsx\")\n",
    "data.sheet_names\n",
    "df=data.parse(\"result_exps\")\n",
    "df.drop(df.columns[len(df.columns)-1], axis=1, inplace=True)\n",
    "df.head()"
   ]
  },
  {
   "cell_type": "code",
   "execution_count": 16,
   "metadata": {
    "collapsed": false
   },
   "outputs": [
    {
     "data": {
      "image/png": "[encoded data removed]",
      "text/plain": [
       "<matplotlib.figure.Figure at 0x1176c8c10>"
      ]
     },
     "metadata": {},
     "output_type": "display_data"
    }
   ],
   "source": [
    "h1=df[\"http\"]==\"HTTP1.1/TLS\"\n",
    "h2=df[\"http\"]==\"HTTP2\"\n",
    "\n",
    "#df[h1].PLT\n",
    "data=np.sort(df[h1].PLT)\n",
    "y = np.arange( len(data)*1.0)/len(data)\n",
    "pyplot.plot( data,y,'b-',linewidth=2.2,label=\"h1\")\n",
    "\n",
    "data=np.sort(df[h2].PLT)\n",
    "y = np.arange( len(data)*1.0)/len(data)\n",
    "pyplot.plot( data,y,'r-',linewidth=2.2, label=\"h2\")\n",
    "pyplot.legend()\n",
    "pyplot.show()"
   ]
  },
  {
   "cell_type": "code",
   "execution_count": 18,
   "metadata": {
    "collapsed": false
   },
   "outputs": [
    {
     "data": {
      "image/png": "[encoded data removed]",
      "text/plain": [
       "<matplotlib.figure.Figure at 0x117c5c450>"
      ]
     },
     "metadata": {},
     "output_type": "display_data"
    }
   ],
   "source": [
    "g=sns.boxplot(x=\"browser\", y=\"PLT\", hue=\"http\",data=df, palette=\"PRGn\")\n",
    "sns.despine(offset=10, trim=True)\n",
    "pyplot.show()"
   ]
  },
  {
   "cell_type": "code",
   "execution_count": null,
   "metadata": {
    "collapsed": true
   },
   "outputs": [],
   "source": []
  }
 ],
 "metadata": {
  "kernelspec": {
   "display_name": "Python 2",
   "language": "python",
   "name": "python2"
  },
  "language_info": {
   "codemirror_mode": {
    "name": "ipython",
    "version": 2
   },
   "file_extension": ".py",
   "mimetype": "text/x-python",
   "name": "python",
   "nbconvert_exporter": "python",
   "pygments_lexer": "ipython2",
   "version": "2.7.13"
  }
 },
 "nbformat": 4,
 "nbformat_minor": 2
}
